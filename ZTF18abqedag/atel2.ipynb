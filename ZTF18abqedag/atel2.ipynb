{
 "cells": [
  {
   "cell_type": "code",
   "execution_count": 1,
   "id": "5392c53f",
   "metadata": {},
   "outputs": [],
   "source": [
    "# %matplotlib notebook\n",
    "from glob import glob\n",
    "from astropy.time import Time\n",
    "from astropy.table import Table\n",
    "import numpy as np\n",
    "import pandas as pd\n",
    "import matplotlib.pyplot as plt\n",
    "import astropy.coordinates as coord\n",
    "import astropy.units as u\n",
    "from astropy.io import ascii, fits\n",
    "# import seaborn as sns"
   ]
  },
  {
   "cell_type": "code",
   "execution_count": 2,
   "id": "1e0ef687",
   "metadata": {},
   "outputs": [],
   "source": [
    "from matplotlib.pyplot import cycler\n",
    "import numpy as np\n",
    "from matplotlib.colors import LinearSegmentedColormap, ListedColormap\n",
    "import matplotlib.cm\n",
    "\n",
    "def get_cycle(cmap, N=None, use_index=\"auto\"):\n",
    "    if isinstance(cmap, str):\n",
    "        if use_index == \"auto\":\n",
    "            if cmap in ['Pastel1', 'Pastel2', 'Paired', 'Accent',\n",
    "                        'Dark2', 'Set1', 'Set2', 'Set3',\n",
    "                        'tab10', 'tab20', 'tab20b', 'tab20c']:\n",
    "                use_index=True\n",
    "            else:\n",
    "                use_index=False\n",
    "        cmap = matplotlib.cm.get_cmap(cmap)\n",
    "    if not N:\n",
    "        N = cmap.N\n",
    "    if use_index==\"auto\":\n",
    "        if cmap.N > 100:\n",
    "            use_index=False\n",
    "        elif isinstance(cmap, LinearSegmentedColormap):\n",
    "            use_index=False\n",
    "        elif isinstance(cmap, ListedColormap):\n",
    "            use_index=True\n",
    "    if use_index:\n",
    "        ind = np.arange(int(N)) % cmap.N\n",
    "        return cycler(\"color\",cmap(ind))\n",
    "    else:\n",
    "        colors = cmap(np.linspace(0,1,N))\n",
    "        return cycler(\"color\",colors)\n",
    "\n",
    "#prop_cycle = plt.rcParams['axes.prop_cycle']\n",
    "#plt.rcParams[\"axes.prop_cycle\"] =\n",
    "prop_cycle= get_cycle(\"tab20\")\n",
    "colors = prop_cycle.by_key()['color'] "
   ]
  },
  {
   "cell_type": "code",
   "execution_count": 3,
   "id": "00ad2ed8",
   "metadata": {},
   "outputs": [],
   "source": [
    "ztf_fp = pd.read_csv('fps.txt', comment='#', index_col='index,', delim_whitespace=True)\n",
    "ztf_fp.columns = [x.split(',')[0] for x in ztf_fp.columns]\n",
    "ztf_fp.index.name = 'index'"
   ]
  },
  {
   "cell_type": "code",
   "execution_count": 4,
   "id": "806a1c9a",
   "metadata": {},
   "outputs": [
    {
     "data": {
      "text/plain": [
       "Index(['field', 'ccdid', 'qid', 'filter', 'pid', 'infobitssci', 'sciinpseeing',\n",
       "       'scibckgnd', 'scisigpix', 'zpmaginpsci', 'zpmaginpsciunc',\n",
       "       'zpmaginpscirms', 'clrcoeff', 'clrcoeffunc', 'ncalmatches', 'exptime',\n",
       "       'adpctdif1', 'adpctdif2', 'diffmaglim', 'zpdiff', 'programid', 'jd',\n",
       "       'rfid', 'forcediffimflux', 'forcediffimfluxunc', 'forcediffimsnr',\n",
       "       'forcediffimchisq', 'forcediffimfluxap', 'forcediffimfluxuncap',\n",
       "       'forcediffimsnrap', 'aperturecorr', 'dnearestrefsrc', 'nearestrefmag',\n",
       "       'nearestrefmagunc', 'nearestrefchi', 'nearestrefsharp', 'refjdstart',\n",
       "       'refjdend', 'procstatus'],\n",
       "      dtype='object')"
      ]
     },
     "execution_count": 4,
     "metadata": {},
     "output_type": "execute_result"
    }
   ],
   "source": [
    "ztf_fp.columns"
   ]
  },
  {
   "cell_type": "code",
   "execution_count": 5,
   "id": "a05a7d5f",
   "metadata": {},
   "outputs": [],
   "source": [
    "ztf_fp['mjd'] = Time(ztf_fp['jd'],format='jd').mjd\n",
    "# ztf_fp['ra'] = 284.67325\n",
    "# ztf_fp['dec'] = 22.65816667\n",
    "# ztf_fp['bjd'] = apply_barycenter(ztf_fp)"
   ]
  },
  {
   "cell_type": "code",
   "execution_count": 6,
   "id": "b6913519",
   "metadata": {},
   "outputs": [
    {
     "data": {
      "text/html": [
       "<div>\n",
       "<style scoped>\n",
       "    .dataframe tbody tr th:only-of-type {\n",
       "        vertical-align: middle;\n",
       "    }\n",
       "\n",
       "    .dataframe tbody tr th {\n",
       "        vertical-align: top;\n",
       "    }\n",
       "\n",
       "    .dataframe thead th {\n",
       "        text-align: right;\n",
       "    }\n",
       "</style>\n",
       "<table border=\"1\" class=\"dataframe\">\n",
       "  <thead>\n",
       "    <tr style=\"text-align: right;\">\n",
       "      <th></th>\n",
       "      <th></th>\n",
       "      <th></th>\n",
       "      <th>ccdid</th>\n",
       "    </tr>\n",
       "    <tr>\n",
       "      <th>field</th>\n",
       "      <th>filter</th>\n",
       "      <th>procstatus</th>\n",
       "      <th></th>\n",
       "    </tr>\n",
       "  </thead>\n",
       "  <tbody>\n",
       "    <tr>\n",
       "      <th>703</th>\n",
       "      <th>ZTF_r</th>\n",
       "      <th>56</th>\n",
       "      <td>1</td>\n",
       "    </tr>\n",
       "    <tr>\n",
       "      <th rowspan=\"4\" valign=\"top\">744</th>\n",
       "      <th rowspan=\"2\" valign=\"top\">ZTF_g</th>\n",
       "      <th>56,57</th>\n",
       "      <td>123</td>\n",
       "    </tr>\n",
       "    <tr>\n",
       "      <th>57,61</th>\n",
       "      <td>19</td>\n",
       "    </tr>\n",
       "    <tr>\n",
       "      <th rowspan=\"2\" valign=\"top\">ZTF_r</th>\n",
       "      <th>56,57</th>\n",
       "      <td>310</td>\n",
       "    </tr>\n",
       "    <tr>\n",
       "      <th>57,61</th>\n",
       "      <td>32</td>\n",
       "    </tr>\n",
       "    <tr>\n",
       "      <th rowspan=\"3\" valign=\"top\">1743</th>\n",
       "      <th rowspan=\"2\" valign=\"top\">ZTF_g</th>\n",
       "      <th>56</th>\n",
       "      <td>10</td>\n",
       "    </tr>\n",
       "    <tr>\n",
       "      <th>61</th>\n",
       "      <td>2</td>\n",
       "    </tr>\n",
       "    <tr>\n",
       "      <th>ZTF_r</th>\n",
       "      <th>61</th>\n",
       "      <td>1</td>\n",
       "    </tr>\n",
       "  </tbody>\n",
       "</table>\n",
       "</div>"
      ],
      "text/plain": [
       "                         ccdid\n",
       "field filter procstatus       \n",
       "703   ZTF_r  56              1\n",
       "744   ZTF_g  56,57         123\n",
       "             57,61          19\n",
       "      ZTF_r  56,57         310\n",
       "             57,61          32\n",
       "1743  ZTF_g  56             10\n",
       "             61              2\n",
       "      ZTF_r  61              1"
      ]
     },
     "execution_count": 6,
     "metadata": {},
     "output_type": "execute_result"
    }
   ],
   "source": [
    "# check for nonzero procstatus\n",
    "wfp_bad = (ztf_fp.procstatus.apply(lambda x: str(x)) != '0')\n",
    "np.sum(wfp_bad)\n",
    "ztf_fp.loc[wfp_bad,['field','filter','ccdid','procstatus']].groupby(['field','filter','procstatus']).agg(len)"
   ]
  },
  {
   "cell_type": "code",
   "execution_count": 7,
   "id": "addcc20c",
   "metadata": {},
   "outputs": [
    {
     "data": {
      "text/html": [
       "<div>\n",
       "<style scoped>\n",
       "    .dataframe tbody tr th:only-of-type {\n",
       "        vertical-align: middle;\n",
       "    }\n",
       "\n",
       "    .dataframe tbody tr th {\n",
       "        vertical-align: top;\n",
       "    }\n",
       "\n",
       "    .dataframe thead th {\n",
       "        text-align: right;\n",
       "    }\n",
       "</style>\n",
       "<table border=\"1\" class=\"dataframe\">\n",
       "  <thead>\n",
       "    <tr style=\"text-align: right;\">\n",
       "      <th></th>\n",
       "      <th></th>\n",
       "      <th></th>\n",
       "      <th>ccdid</th>\n",
       "    </tr>\n",
       "    <tr>\n",
       "      <th>field</th>\n",
       "      <th>filter</th>\n",
       "      <th>procstatus</th>\n",
       "      <th></th>\n",
       "    </tr>\n",
       "  </thead>\n",
       "  <tbody>\n",
       "    <tr>\n",
       "      <th rowspan=\"3\" valign=\"top\">703</th>\n",
       "      <th>ZTF_g</th>\n",
       "      <th>0</th>\n",
       "      <td>371</td>\n",
       "    </tr>\n",
       "    <tr>\n",
       "      <th>ZTF_i</th>\n",
       "      <th>0</th>\n",
       "      <td>51</td>\n",
       "    </tr>\n",
       "    <tr>\n",
       "      <th>ZTF_r</th>\n",
       "      <th>0</th>\n",
       "      <td>760</td>\n",
       "    </tr>\n",
       "    <tr>\n",
       "      <th rowspan=\"2\" valign=\"top\">1743</th>\n",
       "      <th>ZTF_g</th>\n",
       "      <th>0</th>\n",
       "      <td>45</td>\n",
       "    </tr>\n",
       "    <tr>\n",
       "      <th>ZTF_r</th>\n",
       "      <th>0</th>\n",
       "      <td>79</td>\n",
       "    </tr>\n",
       "  </tbody>\n",
       "</table>\n",
       "</div>"
      ],
      "text/plain": [
       "                         ccdid\n",
       "field filter procstatus       \n",
       "703   ZTF_g  0             371\n",
       "      ZTF_i  0              51\n",
       "      ZTF_r  0             760\n",
       "1743  ZTF_g  0              45\n",
       "      ZTF_r  0              79"
      ]
     },
     "execution_count": 7,
     "metadata": {},
     "output_type": "execute_result"
    }
   ],
   "source": [
    "ztf_fp.loc[~wfp_bad,['field','filter','ccdid','procstatus']].groupby(['field','filter','procstatus']).agg(len)"
   ]
  },
  {
   "cell_type": "code",
   "execution_count": 8,
   "id": "3b262715",
   "metadata": {},
   "outputs": [
    {
     "data": {
      "text/plain": [
       "1804"
      ]
     },
     "execution_count": 8,
     "metadata": {},
     "output_type": "execute_result"
    }
   ],
   "source": [
    "len(ztf_fp)"
   ]
  },
  {
   "cell_type": "code",
   "execution_count": 9,
   "id": "8b2a7817",
   "metadata": {},
   "outputs": [
    {
     "name": "stdout",
     "output_type": "stream",
     "text": [
      "3.00982405388121\n"
     ]
    },
    {
     "data": {
      "image/png": "[encoded data removed]",
      "text/plain": [
       "<Figure size 432x288 with 1 Axes>"
      ]
     },
     "metadata": {
      "needs_background": "light"
     },
     "output_type": "display_data"
    }
   ],
   "source": [
    "plt.figure()\n",
    "plt.scatter(ztf_fp['mjd'],ztf_fp['forcediffimchisq'])\n",
    "print(ztf_fp['forcediffimchisq'].median())"
   ]
  },
  {
   "cell_type": "code",
   "execution_count": 10,
   "id": "fff1acf8",
   "metadata": {},
   "outputs": [
    {
     "data": {
      "text/plain": [
       "<ErrorbarContainer object of 3 artists>"
      ]
     },
     "execution_count": 10,
     "metadata": {},
     "output_type": "execute_result"
    },
    {
     "data": {
      "image/png": "[encoded data removed]",
      "text/plain": [
       "<Figure size 432x288 with 1 Axes>"
      ]
     },
     "metadata": {
      "needs_background": "light"
     },
     "output_type": "display_data"
    }
   ],
   "source": [
    "plt.figure()\n",
    "plt.errorbar(ztf_fp['mjd'],ztf_fp['zpmaginpsci'],ztf_fp['zpmaginpscirms'],fmt='.')"
   ]
  },
  {
   "cell_type": "code",
   "execution_count": 11,
   "id": "183ff34b",
   "metadata": {},
   "outputs": [
    {
     "name": "stderr",
     "output_type": "stream",
     "text": [
      "/astro/users/ykwang/.conda/envs/alert_demo/lib/python3.8/site-packages/pandas/core/series.py:726: RuntimeWarning: invalid value encountered in sqrt\n",
      "  result = getattr(ufunc, method)(*inputs, **kwargs)\n"
     ]
    }
   ],
   "source": [
    "# TODO: need to check that nearest ref source is coincident and stellar\n",
    "ztf_fp.loc[:,'nearestrefflux'] = 10**(0.4 * (ztf_fp['zpdiff'] - ztf_fp['nearestrefmag'])) \n",
    "ztf_fp.loc[:,'nearestreffluxunc'] = ztf_fp['nearestrefmagunc'] * ztf_fp['nearestrefflux']/ 1.0857\n",
    "ztf_fp.loc[:,'dc_flux'] = ztf_fp['forcediffimflux'] + ztf_fp['nearestrefflux']\n",
    "ztf_fp.loc[:,'dc_flux_err'] = np.sqrt(ztf_fp['forcediffimfluxunc']**2. - ztf_fp['nearestreffluxunc']**2.)\n",
    "# fix any imaginary ones\n",
    "ztf_fp.loc[ztf_fp.loc[:,'dc_flux_err'].isna(),'dc_flux_err'] = np.sqrt(ztf_fp['forcediffimfluxunc']**2. + ztf_fp['nearestreffluxunc']**2.)\n",
    "ztf_fp.loc[:,'dc_snr'] = ztf_fp['dc_flux']/ztf_fp['dc_flux_err']\n",
    "SNT = 3 # 3-sigma detection\n",
    "SNU = 5 # 5-sigma upper limit\n",
    "\n",
    "ztf_fp.loc[:,'dc_mag'] = np.NaN\n",
    "ztf_fp.loc[:,'dc_mag_err'] = np.NaN\n",
    "ztf_fp.loc[:,'dc_maglim'] = np.NaN\n",
    "\n",
    "wzdet = ztf_fp['dc_snr'] > SNT\n",
    "ztf_fp.loc[wzdet,'dc_mag'] = ztf_fp.loc[wzdet,'zpdiff'] - 2.5 * np.log10(ztf_fp.loc[wzdet,'dc_flux'])\n",
    "ztf_fp.loc[wzdet,'dc_mag_err'] = 1.0857 / ztf_fp['dc_snr']\n",
    "\n",
    "ztf_fp.loc[~wzdet,'dc_maglim'] = ztf_fp.loc[~wzdet,'zpdiff'] - 2.5 * np.log10(SNU*ztf_fp.loc[~wzdet,'dc_flux_err'])\n",
    "\n",
    "\n",
    "# if we don't have reference sources the calculation is slightly different\n",
    "wnoref = ztf_fp['nearestrefmag'].isna()\n",
    "wnorefdet = wnoref & ((ztf_fp.loc[wnoref,'forcediffimflux'] / ztf_fp.loc[wnoref,'forcediffimfluxunc']) > SNT)\n",
    "wnorefnondet = wnoref & ~((ztf_fp.loc[wnoref,'forcediffimflux'] / ztf_fp.loc[wnoref,'forcediffimfluxunc']) > SNT)\n",
    "\n",
    "ztf_fp.loc[wnorefdet,'dc_mag'] = ztf_fp.loc[wnorefdet,'zpdiff'] - 2.5 * np.log10(ztf_fp.loc[wnorefdet,'forcediffimflux'])\n",
    "ztf_fp.loc[wnorefdet,'dc_mag_err'] = 1.0857 / (ztf_fp['forcediffimflux'] / ztf_fp.loc[wnorefdet,'forcediffimfluxunc'])\n",
    "ztf_fp.loc[wnorefnondet,'dc_maglim'] = ztf_fp.loc[wnorefnondet,'zpdiff'] - 2.5 * np.log10(SNU*ztf_fp.loc[wnorefnondet,'forcediffimfluxunc'])\n",
    "\n"
   ]
  },
  {
   "cell_type": "code",
   "execution_count": 12,
   "id": "dc501c73",
   "metadata": {},
   "outputs": [
    {
     "data": {
      "text/html": [
       "<div>\n",
       "<style scoped>\n",
       "    .dataframe tbody tr th:only-of-type {\n",
       "        vertical-align: middle;\n",
       "    }\n",
       "\n",
       "    .dataframe tbody tr th {\n",
       "        vertical-align: top;\n",
       "    }\n",
       "\n",
       "    .dataframe thead th {\n",
       "        text-align: right;\n",
       "    }\n",
       "</style>\n",
       "<table border=\"1\" class=\"dataframe\">\n",
       "  <thead>\n",
       "    <tr style=\"text-align: right;\">\n",
       "      <th></th>\n",
       "      <th>field</th>\n",
       "      <th>ccdid</th>\n",
       "      <th>qid</th>\n",
       "      <th>filter</th>\n",
       "      <th>pid</th>\n",
       "      <th>infobitssci</th>\n",
       "      <th>sciinpseeing</th>\n",
       "      <th>scibckgnd</th>\n",
       "      <th>scisigpix</th>\n",
       "      <th>zpmaginpsci</th>\n",
       "      <th>...</th>\n",
       "      <th>procstatus</th>\n",
       "      <th>mjd</th>\n",
       "      <th>nearestrefflux</th>\n",
       "      <th>nearestreffluxunc</th>\n",
       "      <th>dc_flux</th>\n",
       "      <th>dc_flux_err</th>\n",
       "      <th>dc_snr</th>\n",
       "      <th>dc_mag</th>\n",
       "      <th>dc_mag_err</th>\n",
       "      <th>dc_maglim</th>\n",
       "    </tr>\n",
       "    <tr>\n",
       "      <th>index</th>\n",
       "      <th></th>\n",
       "      <th></th>\n",
       "      <th></th>\n",
       "      <th></th>\n",
       "      <th></th>\n",
       "      <th></th>\n",
       "      <th></th>\n",
       "      <th></th>\n",
       "      <th></th>\n",
       "      <th></th>\n",
       "      <th></th>\n",
       "      <th></th>\n",
       "      <th></th>\n",
       "      <th></th>\n",
       "      <th></th>\n",
       "      <th></th>\n",
       "      <th></th>\n",
       "      <th></th>\n",
       "      <th></th>\n",
       "      <th></th>\n",
       "      <th></th>\n",
       "    </tr>\n",
       "  </thead>\n",
       "  <tbody>\n",
       "    <tr>\n",
       "      <th>0</th>\n",
       "      <td>703</td>\n",
       "      <td>14</td>\n",
       "      <td>1</td>\n",
       "      <td>ZTF_g</td>\n",
       "      <td>450126995315</td>\n",
       "      <td>0</td>\n",
       "      <td>4.1285</td>\n",
       "      <td>143.023</td>\n",
       "      <td>14.53180</td>\n",
       "      <td>26.3571</td>\n",
       "      <td>...</td>\n",
       "      <td>0</td>\n",
       "      <td>58204.126991</td>\n",
       "      <td>1274.206977</td>\n",
       "      <td>23.472542</td>\n",
       "      <td>393.572225</td>\n",
       "      <td>78.855616</td>\n",
       "      <td>4.991049</td>\n",
       "      <td>19.869539</td>\n",
       "      <td>0.217529</td>\n",
       "      <td>NaN</td>\n",
       "    </tr>\n",
       "    <tr>\n",
       "      <th>1</th>\n",
       "      <td>703</td>\n",
       "      <td>14</td>\n",
       "      <td>1</td>\n",
       "      <td>ZTF_g</td>\n",
       "      <td>450173795315</td>\n",
       "      <td>0</td>\n",
       "      <td>4.3532</td>\n",
       "      <td>139.291</td>\n",
       "      <td>12.85530</td>\n",
       "      <td>26.3320</td>\n",
       "      <td>...</td>\n",
       "      <td>0</td>\n",
       "      <td>58204.173796</td>\n",
       "      <td>1245.087803</td>\n",
       "      <td>22.936129</td>\n",
       "      <td>445.972642</td>\n",
       "      <td>77.143076</td>\n",
       "      <td>5.781110</td>\n",
       "      <td>19.708729</td>\n",
       "      <td>0.187801</td>\n",
       "      <td>NaN</td>\n",
       "    </tr>\n",
       "    <tr>\n",
       "      <th>2</th>\n",
       "      <td>703</td>\n",
       "      <td>14</td>\n",
       "      <td>1</td>\n",
       "      <td>ZTF_g</td>\n",
       "      <td>451126895315</td>\n",
       "      <td>8</td>\n",
       "      <td>5.5400</td>\n",
       "      <td>145.006</td>\n",
       "      <td>14.75280</td>\n",
       "      <td>26.3850</td>\n",
       "      <td>...</td>\n",
       "      <td>0</td>\n",
       "      <td>58205.126898</td>\n",
       "      <td>1307.374406</td>\n",
       "      <td>24.083529</td>\n",
       "      <td>369.843831</td>\n",
       "      <td>111.600422</td>\n",
       "      <td>3.314000</td>\n",
       "      <td>19.964954</td>\n",
       "      <td>0.327610</td>\n",
       "      <td>NaN</td>\n",
       "    </tr>\n",
       "    <tr>\n",
       "      <th>3</th>\n",
       "      <td>703</td>\n",
       "      <td>14</td>\n",
       "      <td>1</td>\n",
       "      <td>ZTF_g</td>\n",
       "      <td>451149285315</td>\n",
       "      <td>8</td>\n",
       "      <td>6.3934</td>\n",
       "      <td>143.799</td>\n",
       "      <td>13.25600</td>\n",
       "      <td>26.3808</td>\n",
       "      <td>...</td>\n",
       "      <td>0</td>\n",
       "      <td>58205.149282</td>\n",
       "      <td>1302.326803</td>\n",
       "      <td>23.990546</td>\n",
       "      <td>326.487379</td>\n",
       "      <td>110.179259</td>\n",
       "      <td>2.963238</td>\n",
       "      <td>NaN</td>\n",
       "      <td>NaN</td>\n",
       "      <td>19.528125</td>\n",
       "    </tr>\n",
       "    <tr>\n",
       "      <th>4</th>\n",
       "      <td>703</td>\n",
       "      <td>14</td>\n",
       "      <td>1</td>\n",
       "      <td>ZTF_g</td>\n",
       "      <td>452127315315</td>\n",
       "      <td>0</td>\n",
       "      <td>2.4718</td>\n",
       "      <td>141.570</td>\n",
       "      <td>15.20480</td>\n",
       "      <td>26.3128</td>\n",
       "      <td>...</td>\n",
       "      <td>0</td>\n",
       "      <td>58206.127315</td>\n",
       "      <td>1223.263391</td>\n",
       "      <td>22.534095</td>\n",
       "      <td>310.830499</td>\n",
       "      <td>73.178143</td>\n",
       "      <td>4.247587</td>\n",
       "      <td>20.081491</td>\n",
       "      <td>0.255604</td>\n",
       "      <td>NaN</td>\n",
       "    </tr>\n",
       "    <tr>\n",
       "      <th>...</th>\n",
       "      <td>...</td>\n",
       "      <td>...</td>\n",
       "      <td>...</td>\n",
       "      <td>...</td>\n",
       "      <td>...</td>\n",
       "      <td>...</td>\n",
       "      <td>...</td>\n",
       "      <td>...</td>\n",
       "      <td>...</td>\n",
       "      <td>...</td>\n",
       "      <td>...</td>\n",
       "      <td>...</td>\n",
       "      <td>...</td>\n",
       "      <td>...</td>\n",
       "      <td>...</td>\n",
       "      <td>...</td>\n",
       "      <td>...</td>\n",
       "      <td>...</td>\n",
       "      <td>...</td>\n",
       "      <td>...</td>\n",
       "      <td>...</td>\n",
       "    </tr>\n",
       "    <tr>\n",
       "      <th>1799</th>\n",
       "      <td>703</td>\n",
       "      <td>14</td>\n",
       "      <td>1</td>\n",
       "      <td>ZTF_r</td>\n",
       "      <td>2043480125315</td>\n",
       "      <td>0</td>\n",
       "      <td>1.5716</td>\n",
       "      <td>213.741</td>\n",
       "      <td>8.28537</td>\n",
       "      <td>26.2189</td>\n",
       "      <td>...</td>\n",
       "      <td>0</td>\n",
       "      <td>59797.480127</td>\n",
       "      <td>1921.144967</td>\n",
       "      <td>115.017425</td>\n",
       "      <td>29160.872060</td>\n",
       "      <td>147.738669</td>\n",
       "      <td>197.381446</td>\n",
       "      <td>15.056899</td>\n",
       "      <td>0.005501</td>\n",
       "      <td>NaN</td>\n",
       "    </tr>\n",
       "    <tr>\n",
       "      <th>1800</th>\n",
       "      <td>703</td>\n",
       "      <td>14</td>\n",
       "      <td>1</td>\n",
       "      <td>ZTF_r</td>\n",
       "      <td>2043482585315</td>\n",
       "      <td>0</td>\n",
       "      <td>1.4778</td>\n",
       "      <td>215.154</td>\n",
       "      <td>8.09030</td>\n",
       "      <td>26.2182</td>\n",
       "      <td>...</td>\n",
       "      <td>0</td>\n",
       "      <td>59797.482581</td>\n",
       "      <td>1919.906758</td>\n",
       "      <td>114.943294</td>\n",
       "      <td>28037.986497</td>\n",
       "      <td>145.593119</td>\n",
       "      <td>192.577690</td>\n",
       "      <td>15.098833</td>\n",
       "      <td>0.005638</td>\n",
       "      <td>NaN</td>\n",
       "    </tr>\n",
       "    <tr>\n",
       "      <th>1801</th>\n",
       "      <td>703</td>\n",
       "      <td>14</td>\n",
       "      <td>1</td>\n",
       "      <td>ZTF_r</td>\n",
       "      <td>2043485035315</td>\n",
       "      <td>0</td>\n",
       "      <td>1.5232</td>\n",
       "      <td>214.450</td>\n",
       "      <td>8.98003</td>\n",
       "      <td>26.2214</td>\n",
       "      <td>...</td>\n",
       "      <td>0</td>\n",
       "      <td>59797.485035</td>\n",
       "      <td>1925.573663</td>\n",
       "      <td>115.282567</td>\n",
       "      <td>29491.281129</td>\n",
       "      <td>148.908279</td>\n",
       "      <td>198.049976</td>\n",
       "      <td>15.047166</td>\n",
       "      <td>0.005482</td>\n",
       "      <td>NaN</td>\n",
       "    </tr>\n",
       "    <tr>\n",
       "      <th>1802</th>\n",
       "      <td>703</td>\n",
       "      <td>14</td>\n",
       "      <td>1</td>\n",
       "      <td>ZTF_r</td>\n",
       "      <td>2043487485315</td>\n",
       "      <td>0</td>\n",
       "      <td>1.6789</td>\n",
       "      <td>215.332</td>\n",
       "      <td>9.02340</td>\n",
       "      <td>26.2265</td>\n",
       "      <td>...</td>\n",
       "      <td>0</td>\n",
       "      <td>59797.487488</td>\n",
       "      <td>1934.639886</td>\n",
       "      <td>115.825355</td>\n",
       "      <td>27304.597901</td>\n",
       "      <td>147.796229</td>\n",
       "      <td>184.744889</td>\n",
       "      <td>15.135911</td>\n",
       "      <td>0.005877</td>\n",
       "      <td>NaN</td>\n",
       "    </tr>\n",
       "    <tr>\n",
       "      <th>1803</th>\n",
       "      <td>703</td>\n",
       "      <td>14</td>\n",
       "      <td>1</td>\n",
       "      <td>ZTF_r</td>\n",
       "      <td>2043489955315</td>\n",
       "      <td>0</td>\n",
       "      <td>1.5652</td>\n",
       "      <td>214.048</td>\n",
       "      <td>9.42276</td>\n",
       "      <td>26.2322</td>\n",
       "      <td>...</td>\n",
       "      <td>0</td>\n",
       "      <td>59797.489954</td>\n",
       "      <td>1944.823248</td>\n",
       "      <td>116.435025</td>\n",
       "      <td>29534.906896</td>\n",
       "      <td>149.340624</td>\n",
       "      <td>197.768739</td>\n",
       "      <td>15.056361</td>\n",
       "      <td>0.005490</td>\n",
       "      <td>NaN</td>\n",
       "    </tr>\n",
       "  </tbody>\n",
       "</table>\n",
       "<p>1804 rows × 48 columns</p>\n",
       "</div>"
      ],
      "text/plain": [
       "       field  ccdid  qid filter            pid  infobitssci  sciinpseeing  \\\n",
       "index                                                                       \n",
       "0        703     14    1  ZTF_g   450126995315            0        4.1285   \n",
       "1        703     14    1  ZTF_g   450173795315            0        4.3532   \n",
       "2        703     14    1  ZTF_g   451126895315            8        5.5400   \n",
       "3        703     14    1  ZTF_g   451149285315            8        6.3934   \n",
       "4        703     14    1  ZTF_g   452127315315            0        2.4718   \n",
       "...      ...    ...  ...    ...            ...          ...           ...   \n",
       "1799     703     14    1  ZTF_r  2043480125315            0        1.5716   \n",
       "1800     703     14    1  ZTF_r  2043482585315            0        1.4778   \n",
       "1801     703     14    1  ZTF_r  2043485035315            0        1.5232   \n",
       "1802     703     14    1  ZTF_r  2043487485315            0        1.6789   \n",
       "1803     703     14    1  ZTF_r  2043489955315            0        1.5652   \n",
       "\n",
       "       scibckgnd  scisigpix  zpmaginpsci  ...  procstatus           mjd  \\\n",
       "index                                     ...                             \n",
       "0        143.023   14.53180      26.3571  ...           0  58204.126991   \n",
       "1        139.291   12.85530      26.3320  ...           0  58204.173796   \n",
       "2        145.006   14.75280      26.3850  ...           0  58205.126898   \n",
       "3        143.799   13.25600      26.3808  ...           0  58205.149282   \n",
       "4        141.570   15.20480      26.3128  ...           0  58206.127315   \n",
       "...          ...        ...          ...  ...         ...           ...   \n",
       "1799     213.741    8.28537      26.2189  ...           0  59797.480127   \n",
       "1800     215.154    8.09030      26.2182  ...           0  59797.482581   \n",
       "1801     214.450    8.98003      26.2214  ...           0  59797.485035   \n",
       "1802     215.332    9.02340      26.2265  ...           0  59797.487488   \n",
       "1803     214.048    9.42276      26.2322  ...           0  59797.489954   \n",
       "\n",
       "       nearestrefflux  nearestreffluxunc       dc_flux  dc_flux_err  \\\n",
       "index                                                                 \n",
       "0         1274.206977          23.472542    393.572225    78.855616   \n",
       "1         1245.087803          22.936129    445.972642    77.143076   \n",
       "2         1307.374406          24.083529    369.843831   111.600422   \n",
       "3         1302.326803          23.990546    326.487379   110.179259   \n",
       "4         1223.263391          22.534095    310.830499    73.178143   \n",
       "...               ...                ...           ...          ...   \n",
       "1799      1921.144967         115.017425  29160.872060   147.738669   \n",
       "1800      1919.906758         114.943294  28037.986497   145.593119   \n",
       "1801      1925.573663         115.282567  29491.281129   148.908279   \n",
       "1802      1934.639886         115.825355  27304.597901   147.796229   \n",
       "1803      1944.823248         116.435025  29534.906896   149.340624   \n",
       "\n",
       "           dc_snr     dc_mag  dc_mag_err  dc_maglim  \n",
       "index                                                \n",
       "0        4.991049  19.869539    0.217529        NaN  \n",
       "1        5.781110  19.708729    0.187801        NaN  \n",
       "2        3.314000  19.964954    0.327610        NaN  \n",
       "3        2.963238        NaN         NaN  19.528125  \n",
       "4        4.247587  20.081491    0.255604        NaN  \n",
       "...           ...        ...         ...        ...  \n",
       "1799   197.381446  15.056899    0.005501        NaN  \n",
       "1800   192.577690  15.098833    0.005638        NaN  \n",
       "1801   198.049976  15.047166    0.005482        NaN  \n",
       "1802   184.744889  15.135911    0.005877        NaN  \n",
       "1803   197.768739  15.056361    0.005490        NaN  \n",
       "\n",
       "[1804 rows x 48 columns]"
      ]
     },
     "execution_count": 12,
     "metadata": {},
     "output_type": "execute_result"
    }
   ],
   "source": [
    "ztf_fp"
   ]
  },
  {
   "cell_type": "code",
   "execution_count": 13,
   "id": "6bdd2679",
   "metadata": {
    "scrolled": false
   },
   "outputs": [
    {
     "data": {
      "text/plain": [
       "<ErrorbarContainer object of 3 artists>"
      ]
     },
     "execution_count": 13,
     "metadata": {},
     "output_type": "execute_result"
    },
    {
     "data": {
      "image/png": "[encoded data removed]",
      "text/plain": [
       "<Figure size 432x288 with 1 Axes>"
      ]
     },
     "metadata": {
      "needs_background": "light"
     },
     "output_type": "display_data"
    }
   ],
   "source": [
    "plt.figure()\n",
    "wr = ztf_fp['filter'] == 'ZTF_r'\n",
    "wg = ztf_fp['filter'] == 'ZTF_g'\n",
    "\n",
    "plt.errorbar(ztf_fp.loc[wg,'mjd'],ztf_fp.loc[wg,'dc_flux'],\n",
    "             ztf_fp.loc[wg,'dc_flux_err'],fmt='.',ls='none', color='g')\n",
    "plt.errorbar(ztf_fp.loc[wr,'mjd'],ztf_fp.loc[wr,'dc_flux'],\n",
    "             ztf_fp.loc[wr,'dc_flux_err'],fmt='.',ls='none', color='r')"
   ]
  },
  {
   "cell_type": "code",
   "execution_count": 14,
   "id": "674e1708",
   "metadata": {},
   "outputs": [],
   "source": [
    "colors = ['green', 'pink', 'red']"
   ]
  },
  {
   "cell_type": "code",
   "execution_count": 19,
   "id": "d5ac2af1",
   "metadata": {
    "scrolled": false
   },
   "outputs": [
    {
     "data": {
      "image/png": "[encoded data removed]",
      "text/plain": [
       "<Figure size 720x432 with 1 Axes>"
      ]
     },
     "metadata": {
      "needs_background": "light"
     },
     "output_type": "display_data"
    }
   ],
   "source": [
    "plt.figure(figsize=(10,6))\n",
    "wr = ztf_fp['filter'] == 'ZTF_r'\n",
    "wg = ztf_fp['filter'] == 'ZTF_g'\n",
    "\n",
    "plt.errorbar(ztf_fp.loc[wr,'mjd'],ztf_fp.loc[wr,'dc_mag'],\n",
    "             ztf_fp.loc[wr,'dc_mag_err'],fmt='.',ls='none', color=colors[2], label='ztf-r')\n",
    "plt.scatter(ztf_fp.loc[wr,'mjd'],ztf_fp.loc[wr,'dc_maglim'], marker='v',alpha=0.25,\n",
    "            edgecolor='none',color=colors[2])\n",
    "plt.errorbar(ztf_fp.loc[wg,'mjd'],ztf_fp.loc[wg,'dc_mag'],\n",
    "             ztf_fp.loc[wg,'dc_mag_err'],fmt='.',ls='none', color=colors[0], label='ztf-g')\n",
    "plt.scatter(ztf_fp.loc[wg,'mjd'],ztf_fp.loc[wg,'dc_maglim'], marker='v',alpha=0.25,\n",
    "            edgecolor='none',color=colors[0])\n",
    "\n",
    "# plot cases without a reference\n",
    "# plt.errorbar(ztf_fp.loc[wr&wnoref,'mjd'],ztf_fp.loc[wr&wnoref,'dc_mag'],\n",
    "#              ztf_fp.loc[wr&wnoref,'dc_mag_err'],fmt='.',ls='none', color=colors[2])\n",
    "# plt.scatter(ztf_fp.loc[wr&wnoref,'mjd'],ztf_fp.loc[wr&wnoref,'diffmaglim'], marker='v',alpha=0.25,\n",
    "#             edgecolor='none',color=colors[2])\n",
    "# plt.errorbar(ztf_fp.loc[wg&wnoref,'mjd'],ztf_fp.loc[wg&wnoref,'dc_mag'],\n",
    "#              ztf_fp.loc[wg&wnoref,'dc_mag_err'],fmt='.',ls='none', color=colors[0])\n",
    "# these no-ref limits seem to be spurious\n",
    "#plt.scatter(ztf_fp.loc[wg&wnoref,'mjd'],ztf_fp.loc[wg&wnoref,'diffmaglim'], marker='v',alpha=0.25,\n",
    "#            edgecolor='none',color=colors[0])\n",
    "\n",
    "# TODO: consider marking bad points (procstatus !=0)\n",
    "plt.legend()\n",
    "plt.gca().invert_yaxis()\n",
    "# plt.save_fig('ZTF18abqedag_lc.png')\n",
    "plt.xlim([58320, 58400])\n",
    "plt.show()"
   ]
  },
  {
   "cell_type": "code",
   "execution_count": 21,
   "id": "84084926",
   "metadata": {},
   "outputs": [
    {
     "data": {
      "text/plain": [
       "4.008219178082192"
      ]
     },
     "execution_count": 21,
     "metadata": {},
     "output_type": "execute_result"
    }
   ],
   "source": [
    "(59793 - 58330)/365"
   ]
  },
  {
   "cell_type": "code",
   "execution_count": 103,
   "id": "e9e9c9e1",
   "metadata": {},
   "outputs": [
    {
     "data": {
      "text/html": [
       "<div>\n",
       "<style scoped>\n",
       "    .dataframe tbody tr th:only-of-type {\n",
       "        vertical-align: middle;\n",
       "    }\n",
       "\n",
       "    .dataframe tbody tr th {\n",
       "        vertical-align: top;\n",
       "    }\n",
       "\n",
       "    .dataframe thead th {\n",
       "        text-align: right;\n",
       "    }\n",
       "</style>\n",
       "<table border=\"1\" class=\"dataframe\">\n",
       "  <thead>\n",
       "    <tr style=\"text-align: right;\">\n",
       "      <th></th>\n",
       "      <th>dc_mag</th>\n",
       "      <th>dc_mag_err</th>\n",
       "    </tr>\n",
       "    <tr>\n",
       "      <th>filter</th>\n",
       "      <th></th>\n",
       "      <th></th>\n",
       "    </tr>\n",
       "  </thead>\n",
       "  <tbody>\n",
       "    <tr>\n",
       "      <th>ZTF_g</th>\n",
       "      <td>13</td>\n",
       "      <td>13</td>\n",
       "    </tr>\n",
       "    <tr>\n",
       "      <th>ZTF_r</th>\n",
       "      <td>15</td>\n",
       "      <td>15</td>\n",
       "    </tr>\n",
       "  </tbody>\n",
       "</table>\n",
       "</div>"
      ],
      "text/plain": [
       "        dc_mag  dc_mag_err\n",
       "filter                    \n",
       "ZTF_g       13          13\n",
       "ZTF_r       15          15"
      ]
     },
     "execution_count": 103,
     "metadata": {},
     "output_type": "execute_result"
    }
   ],
   "source": [
    "ztf_fp.query('59745 > mjd').groupby('filter')[['dc_mag', 'dc_mag_err']].count()"
   ]
  },
  {
   "cell_type": "code",
   "execution_count": 94,
   "id": "9b4ca70c",
   "metadata": {},
   "outputs": [
    {
     "data": {
      "text/plain": [
       "2459748.867581"
      ]
     },
     "execution_count": 94,
     "metadata": {},
     "output_type": "execute_result"
    }
   ],
   "source": [
    "59748.367581 + 2400000.5"
   ]
  },
  {
   "cell_type": "code",
   "execution_count": 95,
   "id": "3cf3480b",
   "metadata": {},
   "outputs": [
    {
     "data": {
      "text/html": [
       "<div>\n",
       "<style scoped>\n",
       "    .dataframe tbody tr th:only-of-type {\n",
       "        vertical-align: middle;\n",
       "    }\n",
       "\n",
       "    .dataframe tbody tr th {\n",
       "        vertical-align: top;\n",
       "    }\n",
       "\n",
       "    .dataframe thead th {\n",
       "        text-align: right;\n",
       "    }\n",
       "</style>\n",
       "<table border=\"1\" class=\"dataframe\">\n",
       "  <thead>\n",
       "    <tr style=\"text-align: right;\">\n",
       "      <th></th>\n",
       "      <th>filter</th>\n",
       "      <th>mjd</th>\n",
       "    </tr>\n",
       "    <tr>\n",
       "      <th>index</th>\n",
       "      <th></th>\n",
       "      <th></th>\n",
       "    </tr>\n",
       "  </thead>\n",
       "  <tbody>\n",
       "    <tr>\n",
       "      <th>30</th>\n",
       "      <td>ZTF_g</td>\n",
       "      <td>59750.330521</td>\n",
       "    </tr>\n",
       "    <tr>\n",
       "      <th>31</th>\n",
       "      <td>ZTF_r</td>\n",
       "      <td>59750.359942</td>\n",
       "    </tr>\n",
       "  </tbody>\n",
       "</table>\n",
       "</div>"
      ],
      "text/plain": [
       "      filter           mjd\n",
       "index                     \n",
       "30     ZTF_g  59750.330521\n",
       "31     ZTF_r  59750.359942"
      ]
     },
     "execution_count": 95,
     "metadata": {},
     "output_type": "execute_result"
    }
   ],
   "source": [
    "ztf_fp[ztf_fp['mjd'] > 59749][['filter', 'mjd']]"
   ]
  },
  {
   "cell_type": "code",
   "execution_count": 16,
   "id": "b1b99742",
   "metadata": {},
   "outputs": [
    {
     "data": {
      "text/plain": [
       "filter\n",
       "ZTF_r   2022-06-13 07:37:25.996800\n",
       "ZTF_g   2022-06-13 09:25:32.001600\n",
       "ZTF_r   2022-06-18 08:49:18.998400\n",
       "ZTF_g   2022-06-18 09:32:57.998400\n",
       "ZTF_g   2022-06-20 07:55:56.997120\n",
       "ZTF_r   2022-06-20 08:38:18.997440\n",
       "ZTF_r   2022-06-22 10:00:40.999680\n",
       "Name: mjd, dtype: datetime64[ns]"
      ]
     },
     "execution_count": 16,
     "metadata": {},
     "output_type": "execute_result"
    }
   ],
   "source": [
    "pd.to_datetime(ztf_fp.set_index('filter').query('59743 < mjd')['mjd'] + 2400000.5, unit='D', origin='julian')"
   ]
  },
  {
   "cell_type": "code",
   "execution_count": 56,
   "id": "b3f43c05",
   "metadata": {},
   "outputs": [
    {
     "data": {
      "text/plain": [
       "32"
      ]
     },
     "execution_count": 56,
     "metadata": {},
     "output_type": "execute_result"
    }
   ],
   "source": [
    "np.sum(ztf_fp.dc_snr > 3)"
   ]
  },
  {
   "cell_type": "code",
   "execution_count": 67,
   "id": "987d1417",
   "metadata": {},
   "outputs": [
    {
     "data": {
      "text/plain": [
       "<AxesSubplot:>"
      ]
     },
     "execution_count": 67,
     "metadata": {},
     "output_type": "execute_result"
    }
   ],
   "source": [
    "ztf_fp['dc_snr'].hist()"
   ]
  },
  {
   "cell_type": "code",
   "execution_count": 17,
   "id": "33fab915",
   "metadata": {},
   "outputs": [
    {
     "data": {
      "text/plain": [
       "field                            1483\n",
       "ccdid                              13\n",
       "qid                                 2\n",
       "filter                          ZTF_r\n",
       "pid                     1998417145015\n",
       "infobitssci                         0\n",
       "sciinpseeing                   1.8844\n",
       "scibckgnd                     242.012\n",
       "scisigpix                     9.43395\n",
       "zpmaginpsci                   26.2502\n",
       "zpmaginpsciunc             2.3525e-06\n",
       "zpmaginpscirms              0.0141879\n",
       "clrcoeff                    0.0769942\n",
       "clrcoeffunc               6.56088e-06\n",
       "ncalmatches                      1835\n",
       "exptime                            30\n",
       "adpctdif1                    0.064232\n",
       "adpctdif2                    0.053677\n",
       "diffmaglim                     20.299\n",
       "zpdiff                        26.2502\n",
       "programid                           2\n",
       "jd                        2.45975e+06\n",
       "rfid                       1483120250\n",
       "forcediffimflux               153.099\n",
       "forcediffimfluxunc            30.3836\n",
       "forcediffimsnr                5.60515\n",
       "forcediffimchisq              1.08566\n",
       "forcediffimfluxap             78.3482\n",
       "forcediffimfluxuncap          57.5279\n",
       "forcediffimsnrap              1.37109\n",
       "aperturecorr                  1.04778\n",
       "dnearestrefsrc                2.22231\n",
       "nearestrefmag                  18.883\n",
       "nearestrefmagunc                 0.03\n",
       "nearestrefchi                   0.979\n",
       "nearestrefsharp                 0.025\n",
       "refjdstart                2.45906e+06\n",
       "refjdend                  2.45975e+06\n",
       "procstatus                          0\n",
       "mjd                           59752.4\n",
       "nearestrefflux                884.871\n",
       "nearestreffluxunc             24.4507\n",
       "dc_flux                       1037.97\n",
       "dc_flux_err                   18.0369\n",
       "dc_snr                        57.5472\n",
       "dc_mag                        18.7097\n",
       "dc_mag_err                  0.0188663\n",
       "dc_maglim                         NaN\n",
       "Name: 32, dtype: object"
      ]
     },
     "execution_count": 17,
     "metadata": {},
     "output_type": "execute_result"
    }
   ],
   "source": [
    "ztf_fp.iloc[-1]"
   ]
  },
  {
   "cell_type": "code",
   "execution_count": null,
   "id": "29baca52",
   "metadata": {},
   "outputs": [],
   "source": []
  }
 ],
 "metadata": {
  "kernelspec": {
   "display_name": "ZTF alerts demo",
   "language": "python",
   "name": "ykwang_alert_demo"
  },
  "language_info": {
   "codemirror_mode": {
    "name": "ipython",
    "version": 3
   },
   "file_extension": ".py",
   "mimetype": "text/x-python",
   "name": "python",
   "nbconvert_exporter": "python",
   "pygments_lexer": "ipython3",
   "version": "3.8.5"
  }
 },
 "nbformat": 4,
 "nbformat_minor": 5
}
